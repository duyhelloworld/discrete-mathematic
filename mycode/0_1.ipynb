{
 "cells": [
  {
   "cell_type": "code",
   "execution_count": 1,
   "metadata": {},
   "outputs": [],
   "source": [
    "from sympy import *"
   ]
  },
  {
   "cell_type": "code",
   "execution_count": 2,
   "metadata": {},
   "outputs": [],
   "source": [
    "n, i = symbols('n i')"
   ]
  },
  {
   "cell_type": "code",
   "execution_count": 5,
   "metadata": {},
   "outputs": [
    {
     "data": {
      "text/latex": [
       "$\\displaystyle \\frac{n \\left(n + 1\\right)}{2}$"
      ],
      "text/plain": [
       "n*(n + 1)/2"
      ]
     },
     "execution_count": 5,
     "metadata": {},
     "output_type": "execute_result"
    }
   ],
   "source": [
    "Sum(i, (i, 1, n)).doit().simplify()"
   ]
  },
  {
   "cell_type": "code",
   "execution_count": 6,
   "metadata": {},
   "outputs": [
    {
     "data": {
      "text/latex": [
       "$\\displaystyle \\frac{\\left(n + 1\\right) \\left(n + 2\\right)}{2}$"
      ],
      "text/plain": [
       "(n + 1)*(n + 2)/2"
      ]
     },
     "execution_count": 6,
     "metadata": {},
     "output_type": "execute_result"
    }
   ],
   "source": [
    "(((n + 2) * (n + 1)) / 2).factor()"
   ]
  },
  {
   "cell_type": "code",
   "execution_count": 5,
   "metadata": {},
   "outputs": [],
   "source": [
    "def gcd_euclid(a, b, r):\n",
    "    print(\"r0 = \", a)\n",
    "    print(\"r1 = \", b)\n",
    "    i = 2\n",
    "    while b != 0:\n",
    "        r = a % b\n",
    "        print(f\"r{i} = \", r)\n",
    "        i += 1\n",
    "        a = b\n",
    "        b = r"
   ]
  },
  {
   "cell_type": "code",
   "execution_count": 6,
   "metadata": {},
   "outputs": [
    {
     "name": "stdout",
     "output_type": "stream",
     "text": [
      "r0 =  7144\n",
      "r1 =  800\n",
      "r2 =  744\n",
      "r3 =  56\n",
      "r4 =  16\n",
      "r5 =  8\n",
      "r6 =  0\n"
     ]
    }
   ],
   "source": [
    "gcd_euclid(7144, 800, 5)"
   ]
  },
  {
   "cell_type": "code",
   "execution_count": null,
   "metadata": {},
   "outputs": [],
   "source": [
    "def factorint(n):\n",
    "    i = 2\n",
    "    fact = {}\n",
    "    while n > 1:\n",
    "        while n % i != 0:\n",
    "            i += 1\n",
    "        e = 0\n",
    "        while n % i == 0:\n",
    "            n //= i\n",
    "            e += 1\n",
    "        fact[i] = e\n",
    "    return fact"
   ]
  },
  {
   "attachments": {},
   "cell_type": "markdown",
   "metadata": {},
   "source": [
    "### Tổ hợp lặp\n",
    "(n - r + 1  r)\n",
    "- Số nghiệm nguyên của x1 + x2 + .. + xn = r\n",
    "- Số cách chia r vật giống nhau vào n hộp khác nhau"
   ]
  }
 ],
 "metadata": {
  "kernelspec": {
   "display_name": "Python 3",
   "language": "python",
   "name": "python3"
  },
  "language_info": {
   "codemirror_mode": {
    "name": "ipython",
    "version": 3
   },
   "file_extension": ".py",
   "mimetype": "text/x-python",
   "name": "python",
   "nbconvert_exporter": "python",
   "pygments_lexer": "ipython3",
   "version": "3.10.7"
  },
  "orig_nbformat": 4
 },
 "nbformat": 4,
 "nbformat_minor": 2
}
