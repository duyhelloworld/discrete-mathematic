{
 "cells": [
  {
   "attachments": {},
   "cell_type": "markdown",
   "metadata": {},
   "source": [
    "### Chỉnh hợp chập r của a\n",
    "\n",
    "A(k, n) = n(n-1)...(n-k+1) = n!/(n-k)!"
   ]
  },
  {
   "cell_type": "code",
   "execution_count": 1,
   "metadata": {},
   "outputs": [
    {
     "data": {
      "text/plain": [
       "[['a', 'b', 'c'],\n",
       " ['a', 'b', 'd'],\n",
       " ['a', 'b', 'e'],\n",
       " ['a', 'c', 'b'],\n",
       " ['a', 'c', 'd'],\n",
       " ['a', 'c', 'e'],\n",
       " ['a', 'd', 'b'],\n",
       " ['a', 'd', 'c'],\n",
       " ['a', 'd', 'e'],\n",
       " ['a', 'e', 'b'],\n",
       " ['a', 'e', 'c'],\n",
       " ['a', 'e', 'd'],\n",
       " ['b', 'a', 'c'],\n",
       " ['b', 'a', 'd'],\n",
       " ['b', 'a', 'e'],\n",
       " ['b', 'c', 'a'],\n",
       " ['b', 'c', 'd'],\n",
       " ['b', 'c', 'e'],\n",
       " ['b', 'd', 'a'],\n",
       " ['b', 'd', 'c'],\n",
       " ['b', 'd', 'e'],\n",
       " ['b', 'e', 'a'],\n",
       " ['b', 'e', 'c'],\n",
       " ['b', 'e', 'd'],\n",
       " ['c', 'a', 'b'],\n",
       " ['c', 'a', 'd'],\n",
       " ['c', 'a', 'e'],\n",
       " ['c', 'b', 'a'],\n",
       " ['c', 'b', 'd'],\n",
       " ['c', 'b', 'e'],\n",
       " ['c', 'd', 'a'],\n",
       " ['c', 'd', 'b'],\n",
       " ['c', 'd', 'e'],\n",
       " ['c', 'e', 'a'],\n",
       " ['c', 'e', 'b'],\n",
       " ['c', 'e', 'd'],\n",
       " ['d', 'a', 'b'],\n",
       " ['d', 'a', 'c'],\n",
       " ['d', 'a', 'e'],\n",
       " ['d', 'b', 'a'],\n",
       " ['d', 'b', 'c'],\n",
       " ['d', 'b', 'e'],\n",
       " ['d', 'c', 'a'],\n",
       " ['d', 'c', 'b'],\n",
       " ['d', 'c', 'e'],\n",
       " ['d', 'e', 'a'],\n",
       " ['d', 'e', 'b'],\n",
       " ['d', 'e', 'c'],\n",
       " ['e', 'a', 'b'],\n",
       " ['e', 'a', 'c'],\n",
       " ['e', 'a', 'd'],\n",
       " ['e', 'b', 'a'],\n",
       " ['e', 'b', 'c'],\n",
       " ['e', 'b', 'd'],\n",
       " ['e', 'c', 'a'],\n",
       " ['e', 'c', 'b'],\n",
       " ['e', 'c', 'd'],\n",
       " ['e', 'd', 'a'],\n",
       " ['e', 'd', 'b'],\n",
       " ['e', 'd', 'c']]"
      ]
     },
     "execution_count": 1,
     "metadata": {},
     "output_type": "execute_result"
    }
   ],
   "source": [
    "def permutation(a=[], r=1):\n",
    "    if r == 1:\n",
    "        return [[i] for i in a]\n",
    "    P = []\n",
    "    n = len(a)\n",
    "    for i in range(n):\n",
    "        b = a.copy()\n",
    "        x = b.pop(i)\n",
    "        for p in permutation(b, r - 1):\n",
    "            p = [x] + p\n",
    "            P.append(p)\n",
    "    return P\n",
    "\n",
    "a = permutation(['a', 'b', 'c', 'd', 'e'], 3)\n",
    "a"
   ]
  },
  {
   "cell_type": "code",
   "execution_count": 3,
   "metadata": {},
   "outputs": [
    {
     "name": "stdout",
     "output_type": "stream",
     "text": [
      "1 [1, 2, 3]\n",
      "2 [1, 3, 2]\n",
      "3 [2, 1, 3]\n",
      "4 [2, 3, 1]\n",
      "5 [3, 1, 2]\n",
      "6 [3, 2, 1]\n"
     ]
    }
   ],
   "source": [
    "i = 1\n",
    "for p in permutation([1, 2, 3], 3):\n",
    "    print (i, p)\n",
    "    i += 1"
   ]
  },
  {
   "attachments": {},
   "cell_type": "markdown",
   "metadata": {},
   "source": [
    "### Tổ hợp\n",
    "\n",
    "_C(n, r) = n! / r! * (n-r)!_"
   ]
  },
  {
   "cell_type": "code",
   "execution_count": 7,
   "metadata": {},
   "outputs": [
    {
     "data": {
      "text/plain": [
       "([(1, 2, 3),\n",
       "  (1, 2, 4),\n",
       "  (1, 2, 5),\n",
       "  (1, 3, 4),\n",
       "  (1, 3, 5),\n",
       "  (1, 4, 5),\n",
       "  (2, 3, 4),\n",
       "  (2, 3, 5),\n",
       "  (2, 4, 5),\n",
       "  (3, 4, 5)],\n",
       " 10)"
      ]
     },
     "execution_count": 7,
     "metadata": {},
     "output_type": "execute_result"
    }
   ],
   "source": [
    "import itertools\n",
    "n1 = list( itertools.combinations([1, 2, 3, 4, 5], 3))\n",
    "\n",
    "from sympy import *\n",
    "n2 = binomial(5, 3)\n",
    "n1, n2"
   ]
  },
  {
   "cell_type": "code",
   "execution_count": 3,
   "metadata": {},
   "outputs": [],
   "source": [
    "def combinations(a, r):\n",
    "    if r == 1:\n",
    "        return [[i] for i in a]\n",
    "    C = []\n",
    "    n = len(a)\n",
    "    for i in range(n - r + 1):\n",
    "        for c in combinations(a[i + 1 :], r - 1):\n",
    "            c = [a[i]] + c\n",
    "            C.append(c)\n",
    "    return C"
   ]
  },
  {
   "cell_type": "code",
   "execution_count": 6,
   "metadata": {},
   "outputs": [
    {
     "data": {
      "text/plain": [
       "['c', 'e']"
      ]
     },
     "execution_count": 6,
     "metadata": {},
     "output_type": "execute_result"
    }
   ],
   "source": [
    "# combinations([1, 2, 3, 4, 5, 6, 7, 8, 9], 5)\n",
    "combinations(['a', 'b', 'c', 'd', 'e', 'f'], 2)[10]\n"
   ]
  },
  {
   "cell_type": "code",
   "execution_count": 4,
   "metadata": {},
   "outputs": [
    {
     "data": {
      "text/plain": [
       "[[1, 2, 3],\n",
       " [1, 2, 4],\n",
       " [1, 2, 5],\n",
       " [1, 3, 2],\n",
       " [1, 3, 4],\n",
       " [1, 3, 5],\n",
       " [1, 4, 2],\n",
       " [1, 4, 3],\n",
       " [1, 4, 5],\n",
       " [1, 5, 2],\n",
       " [1, 5, 3],\n",
       " [1, 5, 4],\n",
       " [2, 1, 3],\n",
       " [2, 1, 4],\n",
       " [2, 1, 5],\n",
       " [2, 3, 1],\n",
       " [2, 3, 4],\n",
       " [2, 3, 5],\n",
       " [2, 4, 1],\n",
       " [2, 4, 3],\n",
       " [2, 4, 5],\n",
       " [2, 5, 1],\n",
       " [2, 5, 3],\n",
       " [2, 5, 4],\n",
       " [3, 1, 2],\n",
       " [3, 1, 4],\n",
       " [3, 1, 5],\n",
       " [3, 2, 1],\n",
       " [3, 2, 4],\n",
       " [3, 2, 5],\n",
       " [3, 4, 1],\n",
       " [3, 4, 2],\n",
       " [3, 4, 5],\n",
       " [3, 5, 1],\n",
       " [3, 5, 2],\n",
       " [3, 5, 4],\n",
       " [4, 1, 2],\n",
       " [4, 1, 3],\n",
       " [4, 1, 5],\n",
       " [4, 2, 1],\n",
       " [4, 2, 3],\n",
       " [4, 2, 5],\n",
       " [4, 3, 1],\n",
       " [4, 3, 2],\n",
       " [4, 3, 5],\n",
       " [4, 5, 1],\n",
       " [4, 5, 2],\n",
       " [4, 5, 3],\n",
       " [5, 1, 2],\n",
       " [5, 1, 3],\n",
       " [5, 1, 4],\n",
       " [5, 2, 1],\n",
       " [5, 2, 3],\n",
       " [5, 2, 4],\n",
       " [5, 3, 1],\n",
       " [5, 3, 2],\n",
       " [5, 3, 4],\n",
       " [5, 4, 1],\n",
       " [5, 4, 2],\n",
       " [5, 4, 3]]"
      ]
     },
     "execution_count": 4,
     "metadata": {},
     "output_type": "execute_result"
    }
   ],
   "source": [
    "permutation([1, 2, 3, 4, 5], 3)"
   ]
  },
  {
   "cell_type": "code",
   "execution_count": 8,
   "metadata": {},
   "outputs": [
    {
     "data": {
      "text/plain": [
       "10"
      ]
     },
     "execution_count": 8,
     "metadata": {},
     "output_type": "execute_result"
    }
   ],
   "source": [
    "n, r = 5, 3\n",
    "c = 1\n",
    "for i in range(r):\n",
    "    c = c * (n - i) // (i + 1)\n",
    "c"
   ]
  },
  {
   "cell_type": "code",
   "execution_count": 9,
   "metadata": {},
   "outputs": [],
   "source": [
    "def combinations(a, r):\n",
    "    n = len(a)\n",
    "    if r == 0:\n",
    "        return [[]]    \n",
    "    if r == n:\n",
    "        return [a]\n",
    "    C = []\n",
    "    # x = a.pop(0)\n",
    "    for c in combinations(a[1:], r):\n",
    "        C.append(c)\n",
    "    for c in combinations(a[1:], r-1):\n",
    "        c = [a[0]]+c\n",
    "        C.append(c)\n",
    "    return C"
   ]
  },
  {
   "cell_type": "code",
   "execution_count": 10,
   "metadata": {},
   "outputs": [
    {
     "data": {
      "text/plain": [
       "[[3, 4, 5],\n",
       " [2, 4, 5],\n",
       " [2, 3, 5],\n",
       " [2, 3, 4],\n",
       " [1, 4, 5],\n",
       " [1, 3, 5],\n",
       " [1, 3, 4],\n",
       " [1, 2, 5],\n",
       " [1, 2, 4],\n",
       " [1, 2, 3]]"
      ]
     },
     "execution_count": 10,
     "metadata": {},
     "output_type": "execute_result"
    }
   ],
   "source": [
    "combinations([1, 2, 3, 4, 5], 3)"
   ]
  }
 ],
 "metadata": {
  "kernelspec": {
   "display_name": "Python 3",
   "language": "python",
   "name": "python3"
  },
  "language_info": {
   "codemirror_mode": {
    "name": "ipython",
    "version": 3
   },
   "file_extension": ".py",
   "mimetype": "text/x-python",
   "name": "python",
   "nbconvert_exporter": "python",
   "pygments_lexer": "ipython3",
   "version": "3.10.7"
  },
  "orig_nbformat": 4,
  "vscode": {
   "interpreter": {
    "hash": "e593ac106456af50ce7af38f9671c411b49d6cd90f9b885e167f0f594e09038c"
   }
  }
 },
 "nbformat": 4,
 "nbformat_minor": 2
}
