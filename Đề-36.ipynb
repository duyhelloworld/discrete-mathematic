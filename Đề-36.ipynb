{
 "cells": [
  {
   "attachments": {},
   "cell_type": "markdown",
   "metadata": {},
   "source": [
    "## Câu 1: Có bao đơn ánh từ tập cỡ 3 vào tập cỡ 8\n",
    "(Xếp 3 vật vào 8 hộp, mỗi hộp không quá 1 vật)"
   ]
  },
  {
   "cell_type": "code",
   "execution_count": 32,
   "metadata": {},
   "outputs": [
    {
     "data": {
      "text/latex": [
       "$\\displaystyle 24$"
      ],
      "text/plain": [
       "24"
      ]
     },
     "execution_count": 32,
     "metadata": {},
     "output_type": "execute_result"
    }
   ],
   "source": [
    "from sympy import *\n",
    "factorial(4)/factorial(1)"
   ]
  },
  {
   "attachments": {},
   "cell_type": "markdown",
   "metadata": {},
   "source": [
    "## Câu 2: Có bao nhiêu cách xếp 6 vật vào 8 hộp sao cho 2 vật khác nhau ở 2 hộp khác nhau"
   ]
  },
  {
   "cell_type": "code",
   "execution_count": 5,
   "metadata": {},
   "outputs": [
    {
     "data": {
      "text/latex": [
       "$\\displaystyle 20160$"
      ],
      "text/plain": [
       "20160"
      ]
     },
     "execution_count": 5,
     "metadata": {},
     "output_type": "execute_result"
    }
   ],
   "source": [
    "factorial(8)/factorial(8-6)"
   ]
  },
  {
   "attachments": {},
   "cell_type": "markdown",
   "metadata": {},
   "source": [
    "## Câu 3: Tính giá trị của xâu nhị phân 1000101"
   ]
  },
  {
   "cell_type": "code",
   "execution_count": 33,
   "metadata": {},
   "outputs": [
    {
     "data": {
      "text/plain": [
       "776"
      ]
     },
     "execution_count": 33,
     "metadata": {},
     "output_type": "execute_result"
    }
   ],
   "source": [
    "# chuyển nhị phân 1000101 sang thập phân\n",
    "int('1100001000',2)"
   ]
  },
  {
   "attachments": {},
   "cell_type": "markdown",
   "metadata": {},
   "source": [
    "## Câu 4: Biểu diễn n = 55097 trong hệ bát phân"
   ]
  },
  {
   "cell_type": "code",
   "execution_count": 34,
   "metadata": {},
   "outputs": [
    {
     "data": {
      "text/plain": [
       "'0o124233'"
      ]
     },
     "execution_count": 34,
     "metadata": {},
     "output_type": "execute_result"
    }
   ],
   "source": [
    "# Biểu diễn n = 55097 trong hệ bát phân\n",
    "oct(43163)"
   ]
  },
  {
   "attachments": {},
   "cell_type": "markdown",
   "metadata": {},
   "source": [
    "## Câu 5) Có bao nhiêu hàm từ từ tập cỡ 8 vào tập cỡ 4"
   ]
  },
  {
   "cell_type": "code",
   "execution_count": 13,
   "metadata": {},
   "outputs": [
    {
     "data": {
      "text/plain": [
       "50625"
      ]
     },
     "execution_count": 13,
     "metadata": {},
     "output_type": "execute_result"
    }
   ],
   "source": [
    "4**8"
   ]
  },
  {
   "attachments": {},
   "cell_type": "markdown",
   "metadata": {},
   "source": [
    "## Câu 6: Có bao nhiêu cách xếp 6 vật vào 4 hộp"
   ]
  },
  {
   "cell_type": "code",
   "execution_count": 31,
   "metadata": {},
   "outputs": [
    {
     "data": {
      "text/plain": [
       "2187"
      ]
     },
     "execution_count": 31,
     "metadata": {},
     "output_type": "execute_result"
    }
   ],
   "source": [
    "4**6\n",
    "3**7"
   ]
  },
  {
   "attachments": {},
   "cell_type": "markdown",
   "metadata": {},
   "source": [
    "## Câu 7: Có bao nhiêu quan hệ từ tập A cỡ 2 vào tập B cỡ 5"
   ]
  },
  {
   "cell_type": "code",
   "execution_count": 26,
   "metadata": {},
   "outputs": [
    {
     "data": {
      "text/plain": [
       "32768"
      ]
     },
     "execution_count": 26,
     "metadata": {},
     "output_type": "execute_result"
    }
   ],
   "source": [
    "2**(5*3)"
   ]
  },
  {
   "attachments": {},
   "cell_type": "markdown",
   "metadata": {},
   "source": [
    "## Câu 8: Tìm GCD(7144,800)"
   ]
  },
  {
   "cell_type": "code",
   "execution_count": 30,
   "metadata": {},
   "outputs": [
    {
     "data": {
      "text/latex": [
       "$\\displaystyle 2$"
      ],
      "text/plain": [
       "2"
      ]
     },
     "execution_count": 30,
     "metadata": {},
     "output_type": "execute_result"
    }
   ],
   "source": [
    "gcd(8794, 264)"
   ]
  },
  {
   "attachments": {},
   "cell_type": "markdown",
   "metadata": {},
   "source": [
    "Câu 9: Trong thuật toán Euclid để tìm gcd(7144,800), \n",
    "$r_{5}$ =?"
   ]
  },
  {
   "cell_type": "code",
   "execution_count": 27,
   "metadata": {},
   "outputs": [
    {
     "name": "stdout",
     "output_type": "stream",
     "text": [
      "r0 =  8794\n",
      "r1 =  264\n",
      "r =  82\n",
      "r =  18\n",
      "r =  10\n",
      "r =  8\n",
      "r =  2\n",
      "r =  0\n"
     ]
    },
    {
     "data": {
      "text/plain": [
       "2"
      ]
     },
     "execution_count": 27,
     "metadata": {},
     "output_type": "execute_result"
    }
   ],
   "source": [
    "def gcd (a , b ) :\n",
    "    print(\"r0 = \", a)\n",
    "    print(\"r1 = \", b)\n",
    "    while b != 0:\n",
    "        r = a % b\n",
    "        a = b\n",
    "        b = r\n",
    "        print(\"r = \",r)\n",
    "    return a\n",
    "\n",
    "gcd(8794, 264)"
   ]
  },
  {
   "attachments": {},
   "cell_type": "markdown",
   "metadata": {},
   "source": [
    "Câu 10) Tìm số Stirling loại hai S(9,7)"
   ]
  },
  {
   "cell_type": "code",
   "execution_count": 8,
   "metadata": {},
   "outputs": [
    {
     "data": {
      "text/plain": [
       "462"
      ]
     },
     "execution_count": 8,
     "metadata": {},
     "output_type": "execute_result"
    }
   ],
   "source": [
    "def S(m,n):\n",
    "    if n==1 or m==n:\n",
    "        return 1\n",
    "    return S(m-1,n-1)+ n *S(m-1,n)\n",
    "S(9,7)"
   ]
  },
  {
   "attachments": {},
   "cell_type": "markdown",
   "metadata": {},
   "source": [
    "Câu 11) Có bao nhiêu cách chia 7 vật thành 3 phần khác rỗng (không quan tâm thứ tự)"
   ]
  },
  {
   "cell_type": "code",
   "execution_count": 35,
   "metadata": {},
   "outputs": [
    {
     "data": {
      "text/plain": [
       "301"
      ]
     },
     "execution_count": 35,
     "metadata": {},
     "output_type": "execute_result"
    }
   ],
   "source": [
    "def S(m,n):\n",
    "    if n==1 or m==n:\n",
    "        return 1\n",
    "    return S(m-1,n-1)+ n *S(m-1,n)\n",
    "S(7,3)"
   ]
  },
  {
   "attachments": {},
   "cell_type": "markdown",
   "metadata": {},
   "source": [
    "Câu 12) Có bao nhiêu toàn ánh từ tập cỡ 5 vào tập cỡ 3"
   ]
  },
  {
   "cell_type": "code",
   "execution_count": 29,
   "metadata": {},
   "outputs": [
    {
     "data": {
      "text/latex": [
       "$\\displaystyle 150$"
      ],
      "text/plain": [
       "150"
      ]
     },
     "execution_count": 29,
     "metadata": {},
     "output_type": "execute_result"
    }
   ],
   "source": [
    "k= symbols('k')\n",
    "m=5\n",
    "n=3\n",
    "Sum((-1)**k*binomial(n,k)*(n-k)**m,(k,0,n)).doit()"
   ]
  },
  {
   "attachments": {},
   "cell_type": "markdown",
   "metadata": {},
   "source": [
    "Câu 13) Có bao nhiêu cách xếp 8 vật vào 4 hộp sao không có hộp nào trống"
   ]
  },
  {
   "cell_type": "code",
   "execution_count": 16,
   "metadata": {},
   "outputs": [
    {
     "data": {
      "text/latex": [
       "$\\displaystyle 16800$"
      ],
      "text/plain": [
       "16800"
      ]
     },
     "execution_count": 16,
     "metadata": {},
     "output_type": "execute_result"
    }
   ],
   "source": [
    "def toanAnh(m,n):\n",
    "    k= symbols('k')\n",
    "    return Sum((-1)**k*binomial(n,k)*(n-k)**m,(k,0,n)).doit()\n",
    "toanAnh(7,5)"
   ]
  },
  {
   "attachments": {},
   "cell_type": "markdown",
   "metadata": {},
   "source": [
    "Câu 14) Phân tích số nguyên tố cho n=1225"
   ]
  },
  {
   "cell_type": "code",
   "execution_count": 19,
   "metadata": {},
   "outputs": [
    {
     "data": {
      "text/plain": [
       "{5: 4, 7: 4}"
      ]
     },
     "execution_count": 19,
     "metadata": {},
     "output_type": "execute_result"
    }
   ],
   "source": [
    "factorint(1500625)"
   ]
  },
  {
   "cell_type": "code",
   "execution_count": 5,
   "metadata": {},
   "outputs": [
    {
     "data": {
      "text/plain": [
       "288"
      ]
     },
     "execution_count": 5,
     "metadata": {},
     "output_type": "execute_result"
    }
   ],
   "source": [
    "4 * 8 * 9"
   ]
  },
  {
   "attachments": {},
   "cell_type": "markdown",
   "metadata": {},
   "source": [
    "Câu 15) Cho p, q, r là 3 số nguyên tố phân biệt. n = p**5 * q**8 * r**7 có bao nhiêu ước"
   ]
  },
  {
   "cell_type": "code",
   "execution_count": 38,
   "metadata": {},
   "outputs": [
    {
     "data": {
      "text/plain": [
       "432"
      ]
     },
     "execution_count": 38,
     "metadata": {},
     "output_type": "execute_result"
    }
   ],
   "source": [
    "(5+1)*(8+1)*(7+1)"
   ]
  },
  {
   "cell_type": "code",
   "execution_count": 39,
   "metadata": {},
   "outputs": [],
   "source": [
    "n = 5**5 * 3**7 * 2**8\n",
    "count = 1\n",
    "for i in range(1, n+1):\n",
    "    if (n % i == 0):\n",
    "        count += 1"
   ]
  },
  {
   "cell_type": "code",
   "execution_count": 40,
   "metadata": {},
   "outputs": [
    {
     "data": {
      "text/plain": [
       "433"
      ]
     },
     "execution_count": 40,
     "metadata": {},
     "output_type": "execute_result"
    }
   ],
   "source": [
    "count"
   ]
  },
  {
   "attachments": {},
   "cell_type": "markdown",
   "metadata": {},
   "source": [
    "Câu 16) Cho dãy a_n xác định bởi a_0 = 3, a_1 = -3, a_n = 2a_{n-1} + 2a_{n-2} + 4n-2 với n >= 2. Tìm a_5"
   ]
  },
  {
   "cell_type": "code",
   "execution_count": 20,
   "metadata": {},
   "outputs": [
    {
     "data": {
      "text/plain": [
       "17"
      ]
     },
     "execution_count": 20,
     "metadata": {},
     "output_type": "execute_result"
    }
   ],
   "source": [
    "def tinh_a_n(n):\n",
    "    if n == 0:\n",
    "        return 5\n",
    "    if n == 1:\n",
    "        return 0\n",
    "    return 2 * tinh_a_n(n-1) - 4 * tinh_a_n(n-2) - 2*n+5\n",
    "tinh_a_n(7)"
   ]
  },
  {
   "attachments": {},
   "cell_type": "markdown",
   "metadata": {},
   "source": [
    "Câu 17) Cho 10 vật đánh số từ 1-> 10, và 10 hộp cũng đánh số từ 1 -> 10. Xếp 10 vào 10 hộp sao cho mỗi hộp 1 vật. Có bao nhiêu cách xếp để không có vật nào vào hộp trùng với số của nó"
   ]
  },
  {
   "attachments": {},
   "cell_type": "markdown",
   "metadata": {},
   "source": [
    "1a, 2b\n",
    "2a, 1b"
   ]
  },
  {
   "attachments": {},
   "cell_type": "markdown",
   "metadata": {},
   "source": [
    "1a, 2b, 3c\n",
    "1a, 2c, 3b\n",
    "1b, 2a, 3c\n",
    "1b, 2c, 3a\n",
    "1c, 2a, 3b\n",
    "1c, 2b, 3a"
   ]
  },
  {
   "cell_type": "code",
   "execution_count": 57,
   "metadata": {},
   "outputs": [
    {
     "data": {
      "text/plain": [
       "[['00', '01', '02'], ['10', '11', '12'], ['20', '21', '22']]"
      ]
     },
     "execution_count": 57,
     "metadata": {},
     "output_type": "execute_result"
    }
   ],
   "source": [
    "a = [0,1,2]\n",
    "b = ['0', '1', '2']\n"
   ]
  },
  {
   "cell_type": "code",
   "execution_count": 58,
   "metadata": {},
   "outputs": [
    {
     "data": {
      "text/plain": [
       "24"
      ]
     },
     "execution_count": 58,
     "metadata": {},
     "output_type": "execute_result"
    }
   ],
   "source": [
    "t = \"\"\"1a, 2b, 3c, 4d\n",
    "1a, 2b, 3d, 4c\n",
    "1a, 2c, 3b, 4d\n",
    "1a, 2c, 3d, 4b\n",
    "1a, 2d, 3b, 4c\n",
    "1a, 2d, 3c, 4b\n",
    "1b, 2a, 3c, 4d\n",
    "1b, 2a, 3d, 4c\n",
    "1b, 2c, 3a, 4d\n",
    "1b, 2c, 3d, 4a\n",
    "1b, 2d, 3a, 4c\n",
    "1b, 2d, 3c, 4a\n",
    "1c, 2a, 3b, 4d\n",
    "1c, 2a, 3d, 4b\n",
    "1c, 2b, 3a, 4d\n",
    "1c, 2b, 3d, 4a\n",
    "1c, 2d, 3a, 4b\n",
    "1c, 2d, 3b, 4a\n",
    "1d, 2a, 3b, 4c\n",
    "1d, 2a, 3c, 4b\n",
    "1d, 2b, 3a, 4c\n",
    "1d, 2b, 3c, 4a\n",
    "1d, 2c, 3a, 4b\n",
    "1d, 2c, 3b, 4a\"\"\"\n",
    "t = t.split('\\n')\n",
    "len(t)"
   ]
  },
  {
   "cell_type": "code",
   "execution_count": 62,
   "metadata": {},
   "outputs": [
    {
     "name": "stdout",
     "output_type": "stream",
     "text": [
      "Giá trị của d_n với n = 10 là 1334961.0000000005\n"
     ]
    }
   ],
   "source": [
    "import math\n",
    "\n",
    "def calculate_d_n(n):\n",
    "    result = 0\n",
    "    factorial = math.factorial(n)\n",
    "    \n",
    "    for i in range(n+1):\n",
    "        term = ((-1)**i) * (1 / math.factorial(i))\n",
    "        result += term\n",
    "    \n",
    "    result *= factorial\n",
    "    return result\n",
    "\n",
    "# Ví dụ tính giá trị d_n cho n = 4\n",
    "n = 10\n",
    "d_n = calculate_d_n(n)\n",
    "print(\"Giá trị của d_n với n =\", n, \"là\", d_n)\n"
   ]
  }
 ],
 "metadata": {
  "kernelspec": {
   "display_name": "base",
   "language": "python",
   "name": "python3"
  },
  "language_info": {
   "codemirror_mode": {
    "name": "ipython",
    "version": 3
   },
   "file_extension": ".py",
   "mimetype": "text/x-python",
   "name": "python",
   "nbconvert_exporter": "python",
   "pygments_lexer": "ipython3",
   "version": "3.10.7"
  },
  "orig_nbformat": 4
 },
 "nbformat": 4,
 "nbformat_minor": 2
}
