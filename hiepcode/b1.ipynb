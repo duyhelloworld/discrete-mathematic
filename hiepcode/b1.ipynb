{
 "cells": [
  {
   "cell_type": "code",
   "execution_count": 3,
   "metadata": {},
   "outputs": [
    {
     "name": "stdout",
     "output_type": "stream",
     "text": [
      "N i j\n",
      "1 1 1\n",
      "2 1 2\n",
      "3 1 3\n",
      "4 1 4\n",
      "5 1 5\n",
      "6 2 1\n",
      "7 2 2\n",
      "8 2 3\n",
      "9 2 4\n",
      "10 2 5\n",
      "11 3 1\n",
      "12 3 2\n",
      "13 3 3\n",
      "14 3 4\n",
      "15 3 5\n",
      "16 4 1\n",
      "17 4 2\n",
      "18 4 3\n",
      "19 4 4\n",
      "20 4 5\n",
      "Tong so lan in la  20\n"
     ]
    }
   ],
   "source": [
    "count = 0\n",
    "m = 6\n",
    "n = 5\n",
    "print(\"N\", \"i\", \"j\")\n",
    "for i in range (1, n):\n",
    "    for j in range (1, m):\n",
    "        print (count+1, i, j)\n",
    "        count +=1\n",
    "print(\"Tong so lan in la \", count)"
   ]
  },
  {
   "cell_type": "code",
   "execution_count": 5,
   "metadata": {},
   "outputs": [],
   "source": [
    "from sympy import *"
   ]
  },
  {
   "cell_type": "code",
   "execution_count": 6,
   "metadata": {},
   "outputs": [],
   "source": [
    "n, i = symbols(\"n i\")"
   ]
  },
  {
   "cell_type": "code",
   "execution_count": 7,
   "metadata": {},
   "outputs": [
    {
     "data": {
      "text/latex": [
       "$\\displaystyle \\frac{n \\left(n + 1\\right) \\left(2 n + 1\\right)}{6}$"
      ],
      "text/plain": [
       "n*(n + 1)*(2*n + 1)/6"
      ]
     },
     "execution_count": 7,
     "metadata": {},
     "output_type": "execute_result"
    }
   ],
   "source": [
    "Sum(i*i, (i, 1, n)).doit().simplify().factor()"
   ]
  },
  {
   "attachments": {},
   "cell_type": "markdown",
   "metadata": {},
   "source": [
    "### Hoán vị\n",
    "*P! = n(n-1)(n-2) ... 2.1 = n!*"
   ]
  },
  {
   "cell_type": "code",
   "execution_count": 8,
   "metadata": {},
   "outputs": [],
   "source": [
    "def permutations(l):\n",
    "    n = len(l)\n",
    "    if n == 1:\n",
    "        return [l]\n",
    "    A = []\n",
    "    for i in range(n):\n",
    "        lc = l.copy()\n",
    "        x = lc.pop(i)\n",
    "        for a in permutations(lc):\n",
    "            a.insert(0, x)\n",
    "            A.append(a)\n",
    "    return A"
   ]
  },
  {
   "cell_type": "code",
   "execution_count": 9,
   "metadata": {},
   "outputs": [
    {
     "data": {
      "text/plain": [
       "[['1', '2', '3'],\n",
       " ['1', '3', '2'],\n",
       " ['2', '1', '3'],\n",
       " ['2', '3', '1'],\n",
       " ['3', '1', '2'],\n",
       " ['3', '2', '1']]"
      ]
     },
     "execution_count": 9,
     "metadata": {},
     "output_type": "execute_result"
    }
   ],
   "source": [
    "permutations(['1', '2', '3'])"
   ]
  },
  {
   "cell_type": "code",
   "execution_count": 15,
   "metadata": {},
   "outputs": [
    {
     "data": {
      "text/plain": [
       "([(1, 2, 3), (1, 3, 2), (2, 1, 3), (2, 3, 1), (3, 1, 2), (3, 2, 1)], 6)"
      ]
     },
     "execution_count": 15,
     "metadata": {},
     "output_type": "execute_result"
    }
   ],
   "source": [
    "import itertools\n",
    "n1 = list( itertools.permutations([1, 2, 3]) )\n",
    "\n",
    "from sympy import *\n",
    "n2 = factorial (3)\n",
    "n1, n2"
   ]
  },
  {
   "cell_type": "code",
   "execution_count": 11,
   "metadata": {},
   "outputs": [],
   "source": [
    "def next_permutation(nums):\n",
    "    # Find pivot\n",
    "    i = len(nums) - 2\n",
    "    while i >= 0 and nums[i] >= nums[i + 1]:\n",
    "        i -= 1\n",
    "    \n",
    "    if i >= 0:\n",
    "        # Find successor\n",
    "        j = len(nums) - 1\n",
    "        while nums[j] <= nums[i]:\n",
    "            j -= 1\n",
    "        nums[i], nums[j] = nums[j], nums[i]\n",
    "    \n",
    "    # Reverse suffix\n",
    "    left, right = i + 1, len(nums) - 1\n",
    "    while left < right:\n",
    "        nums[left], nums[right] = nums[right], nums[left]\n",
    "        left += 1\n",
    "        right -= 1\n",
    "\n",
    "    return nums\n"
   ]
  },
  {
   "cell_type": "code",
   "execution_count": 12,
   "metadata": {},
   "outputs": [
    {
     "data": {
      "text/plain": [
       "[3, 1, 2]"
      ]
     },
     "execution_count": 12,
     "metadata": {},
     "output_type": "execute_result"
    }
   ],
   "source": [
    "next_permutation([2, 3, 1])"
   ]
  },
  {
   "cell_type": "code",
   "execution_count": 14,
   "metadata": {},
   "outputs": [
    {
     "data": {
      "text/plain": [
       "[3, 6, 4, 5, 2, 1]"
      ]
     },
     "execution_count": 14,
     "metadata": {},
     "output_type": "execute_result"
    }
   ],
   "source": [
    "a = [3, 6, 2, 5, 4, 1]\n",
    "n = len(a)\n",
    "k = n - 1\n",
    "while a[k] < a[k-1]:\n",
    "    k -=1\n",
    "\n",
    "i = n - 1\n",
    "while a[k - 1] > a[i]:\n",
    "    i -= 1\n",
    "\n",
    "a[k-1], a[i] = a[i], a[k-1]\n",
    "b = a[:k]\n",
    "a"
   ]
  },
  {
   "cell_type": "code",
   "execution_count": 16,
   "metadata": {},
   "outputs": [
    {
     "data": {
      "text/plain": [
       "[3, 6, 4, 5, 1, 2]"
      ]
     },
     "execution_count": 16,
     "metadata": {},
     "output_type": "execute_result"
    }
   ],
   "source": [
    "a = [3, 6, 4, 5, 2, 1]\n",
    "l = a[:4]\n",
    "r = a[4:]\n",
    "r.reverse()\n",
    "l+r"
   ]
  },
  {
   "cell_type": "code",
   "execution_count": 17,
   "metadata": {},
   "outputs": [
    {
     "name": "stdout",
     "output_type": "stream",
     "text": [
      "[3, 6, 5, 1, 2, 4]\n",
      "[3, 6, 5, 1, 4, 2]\n",
      "[3, 6, 5, 2, 1, 4]\n",
      "[3, 6, 5, 2, 4, 1]\n",
      "[3, 6, 5, 4, 1, 2]\n",
      "[3, 6, 5, 4, 2, 1]\n",
      "[4, 1, 2, 3, 5, 6]\n",
      "[4, 1, 2, 3, 6, 5]\n",
      "[4, 1, 2, 5, 3, 6]\n",
      "[4, 1, 2, 5, 6, 3]\n"
     ]
    }
   ],
   "source": [
    "a = [3, 6, 4, 5, 2, 1]\n",
    "for _ in range (10):\n",
    "    a = next_permutation(a)\n",
    "    print(a)"
   ]
  }
 ],
 "metadata": {
  "kernelspec": {
   "display_name": "Python 3",
   "language": "python",
   "name": "python3"
  },
  "language_info": {
   "codemirror_mode": {
    "name": "ipython",
    "version": 3
   },
   "file_extension": ".py",
   "mimetype": "text/x-python",
   "name": "python",
   "nbconvert_exporter": "python",
   "pygments_lexer": "ipython3",
   "version": "3.10.7"
  },
  "orig_nbformat": 4
 },
 "nbformat": 4,
 "nbformat_minor": 2
}
