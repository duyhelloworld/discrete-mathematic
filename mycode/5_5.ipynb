{
 "cells": [
  {
   "cell_type": "code",
   "execution_count": 1,
   "metadata": {},
   "outputs": [],
   "source": [
    "a = [7, 4, 5]\n",
    "b = [5,6, 8, 3]\n",
    "base = 10"
   ]
  },
  {
   "cell_type": "code",
   "execution_count": 2,
   "metadata": {},
   "outputs": [],
   "source": [
    "k = len(a) # k > k lí thuyết 1 đơn vị\n",
    "l = len(b) # l cũng vậy"
   ]
  },
  {
   "cell_type": "code",
   "execution_count": 3,
   "metadata": {},
   "outputs": [
    {
     "data": {
      "text/plain": [
       "[5, 5, 1, 4, 1, 1, 2]"
      ]
     },
     "execution_count": 3,
     "metadata": {},
     "output_type": "execute_result"
    }
   ],
   "source": [
    "s = [0] * (k+l)\n",
    "for i in range(l):\n",
    "    rp = rs = 0\n",
    "    for j in range(k):\n",
    "        t = a[j] * b[i] + rp \n",
    "        p = t % base\n",
    "        rp = t // base\n",
    "        t = s[i+j] + p + rs\n",
    "        s[i+j] = t % base\n",
    "        rs = t // base\n",
    "    s[k+i] = rp + rs         # Vốn phải là k+i+1 nhưng vì lệch 1 nên thế\n",
    "s"
   ]
  }
 ],
 "metadata": {
  "kernelspec": {
   "display_name": "Python 3",
   "language": "python",
   "name": "python3"
  },
  "language_info": {
   "codemirror_mode": {
    "name": "ipython",
    "version": 3
   },
   "file_extension": ".py",
   "mimetype": "text/x-python",
   "name": "python",
   "nbconvert_exporter": "python",
   "pygments_lexer": "ipython3",
   "version": "3.10.7"
  },
  "orig_nbformat": 4
 },
 "nbformat": 4,
 "nbformat_minor": 2
}
